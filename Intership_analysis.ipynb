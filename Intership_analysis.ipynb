{
 "cells": [
  {
   "cell_type": "code",
   "execution_count": 2,
   "id": "10537eeb",
   "metadata": {},
   "outputs": [],
   "source": [
    "import pandas as pd\n",
    "import numpy as np\n",
    "import matplotlib.pyplot as plt\n",
    "import seaborn as sns"
   ]
  },
  {
   "cell_type": "code",
   "execution_count": 3,
   "id": "4499c632",
   "metadata": {},
   "outputs": [],
   "source": [
    "df1=pd.read_csv('user_interactions.csv', encoding='unicode_escape')\n",
    "df2=pd.read_csv('purchase_data.csv', encoding='unicode_escape')\n",
    "df3=pd.read_csv('website_performance.csv', encoding='unicode_escape')"
   ]
  },
  {
   "cell_type": "code",
   "execution_count": 93,
   "id": "c41ad093",
   "metadata": {},
   "outputs": [
    {
     "data": {
      "text/html": [
       "<div>\n",
       "<style scoped>\n",
       "    .dataframe tbody tr th:only-of-type {\n",
       "        vertical-align: middle;\n",
       "    }\n",
       "\n",
       "    .dataframe tbody tr th {\n",
       "        vertical-align: top;\n",
       "    }\n",
       "\n",
       "    .dataframe thead th {\n",
       "        text-align: right;\n",
       "    }\n",
       "</style>\n",
       "<table border=\"1\" class=\"dataframe\">\n",
       "  <thead>\n",
       "    <tr style=\"text-align: right;\">\n",
       "      <th></th>\n",
       "      <th>User_ID</th>\n",
       "      <th>Page_Viewed</th>\n",
       "      <th>Time_Spent_Seconds</th>\n",
       "    </tr>\n",
       "  </thead>\n",
       "  <tbody>\n",
       "    <tr>\n",
       "      <th>0</th>\n",
       "      <td>User_3198</td>\n",
       "      <td>Homepage</td>\n",
       "      <td>560</td>\n",
       "    </tr>\n",
       "    <tr>\n",
       "      <th>1</th>\n",
       "      <td>User_126</td>\n",
       "      <td>Category Page</td>\n",
       "      <td>168</td>\n",
       "    </tr>\n",
       "    <tr>\n",
       "      <th>2</th>\n",
       "      <td>User_1376</td>\n",
       "      <td>Category Page</td>\n",
       "      <td>122</td>\n",
       "    </tr>\n",
       "    <tr>\n",
       "      <th>3</th>\n",
       "      <td>User_1117</td>\n",
       "      <td>Cart Page</td>\n",
       "      <td>329</td>\n",
       "    </tr>\n",
       "    <tr>\n",
       "      <th>4</th>\n",
       "      <td>User_3683</td>\n",
       "      <td>Category Page</td>\n",
       "      <td>391</td>\n",
       "    </tr>\n",
       "  </tbody>\n",
       "</table>\n",
       "</div>"
      ],
      "text/plain": [
       "     User_ID    Page_Viewed  Time_Spent_Seconds\n",
       "0  User_3198       Homepage                 560\n",
       "1   User_126  Category Page                 168\n",
       "2  User_1376  Category Page                 122\n",
       "3  User_1117      Cart Page                 329\n",
       "4  User_3683  Category Page                 391"
      ]
     },
     "execution_count": 93,
     "metadata": {},
     "output_type": "execute_result"
    }
   ],
   "source": [
    "df1.head()"
   ]
  },
  {
   "cell_type": "markdown",
   "id": "fe897e6e",
   "metadata": {},
   "source": [
    "Doing cleaninf and preprocessing user_interactions.csv"
   ]
  },
  {
   "cell_type": "code",
   "execution_count": 4,
   "id": "ee3a7cf7",
   "metadata": {},
   "outputs": [
    {
     "data": {
      "text/plain": [
       "(5000, 3)"
      ]
     },
     "execution_count": 4,
     "metadata": {},
     "output_type": "execute_result"
    }
   ],
   "source": [
    "df1.shape\n"
   ]
  },
  {
   "cell_type": "code",
   "execution_count": 5,
   "id": "1bf6291d",
   "metadata": {},
   "outputs": [
    {
     "name": "stdout",
     "output_type": "stream",
     "text": [
      "<class 'pandas.core.frame.DataFrame'>\n",
      "RangeIndex: 5000 entries, 0 to 4999\n",
      "Data columns (total 3 columns):\n",
      " #   Column              Non-Null Count  Dtype \n",
      "---  ------              --------------  ----- \n",
      " 0   User_ID             5000 non-null   object\n",
      " 1   Page_Viewed         5000 non-null   object\n",
      " 2   Time_Spent_Seconds  5000 non-null   int64 \n",
      "dtypes: int64(1), object(2)\n",
      "memory usage: 117.3+ KB\n"
     ]
    }
   ],
   "source": [
    "df1.info()"
   ]
  },
  {
   "cell_type": "code",
   "execution_count": 129,
   "id": "93f32ced",
   "metadata": {},
   "outputs": [
    {
     "data": {
      "text/plain": [
       "User_ID               0\n",
       "Page_Viewed           0\n",
       "Time_Spent_Seconds    0\n",
       "dtype: int64"
      ]
     },
     "execution_count": 129,
     "metadata": {},
     "output_type": "execute_result"
    }
   ],
   "source": [
    "df1.isnull().sum()\n",
    "#no null value is found in this data set"
   ]
  },
  {
   "cell_type": "code",
   "execution_count": 130,
   "id": "40254e06",
   "metadata": {},
   "outputs": [
    {
     "ename": "AttributeError",
     "evalue": "Can only use .str accessor with string values!",
     "output_type": "error",
     "traceback": [
      "\u001b[1;31m---------------------------------------------------------------------------\u001b[0m",
      "\u001b[1;31mAttributeError\u001b[0m                            Traceback (most recent call last)",
      "Cell \u001b[1;32mIn[130], line 2\u001b[0m\n\u001b[0;32m      1\u001b[0m \u001b[38;5;66;03m#changing the user id of the data to just number and removing the word 'User' from the data\u001b[39;00m\n\u001b[1;32m----> 2\u001b[0m df1[\u001b[38;5;124m'\u001b[39m\u001b[38;5;124mUser_ID\u001b[39m\u001b[38;5;124m'\u001b[39m] \u001b[38;5;241m=\u001b[39m \u001b[43mdf1\u001b[49m\u001b[43m[\u001b[49m\u001b[38;5;124;43m'\u001b[39;49m\u001b[38;5;124;43mUser_ID\u001b[39;49m\u001b[38;5;124;43m'\u001b[39;49m\u001b[43m]\u001b[49m\u001b[38;5;241;43m.\u001b[39;49m\u001b[43mstr\u001b[49m\u001b[38;5;241m.\u001b[39mextract(\u001b[38;5;124mr\u001b[39m\u001b[38;5;124m'\u001b[39m\u001b[38;5;124m(\u001b[39m\u001b[38;5;124m\\\u001b[39m\u001b[38;5;124md+)\u001b[39m\u001b[38;5;124m'\u001b[39m)\n",
      "File \u001b[1;32mC:\\ProgramData\\anaconda3\\lib\\site-packages\\pandas\\core\\generic.py:5902\u001b[0m, in \u001b[0;36mNDFrame.__getattr__\u001b[1;34m(self, name)\u001b[0m\n\u001b[0;32m   5895\u001b[0m \u001b[38;5;28;01mif\u001b[39;00m (\n\u001b[0;32m   5896\u001b[0m     name \u001b[38;5;129;01mnot\u001b[39;00m \u001b[38;5;129;01min\u001b[39;00m \u001b[38;5;28mself\u001b[39m\u001b[38;5;241m.\u001b[39m_internal_names_set\n\u001b[0;32m   5897\u001b[0m     \u001b[38;5;129;01mand\u001b[39;00m name \u001b[38;5;129;01mnot\u001b[39;00m \u001b[38;5;129;01min\u001b[39;00m \u001b[38;5;28mself\u001b[39m\u001b[38;5;241m.\u001b[39m_metadata\n\u001b[0;32m   5898\u001b[0m     \u001b[38;5;129;01mand\u001b[39;00m name \u001b[38;5;129;01mnot\u001b[39;00m \u001b[38;5;129;01min\u001b[39;00m \u001b[38;5;28mself\u001b[39m\u001b[38;5;241m.\u001b[39m_accessors\n\u001b[0;32m   5899\u001b[0m     \u001b[38;5;129;01mand\u001b[39;00m \u001b[38;5;28mself\u001b[39m\u001b[38;5;241m.\u001b[39m_info_axis\u001b[38;5;241m.\u001b[39m_can_hold_identifiers_and_holds_name(name)\n\u001b[0;32m   5900\u001b[0m ):\n\u001b[0;32m   5901\u001b[0m     \u001b[38;5;28;01mreturn\u001b[39;00m \u001b[38;5;28mself\u001b[39m[name]\n\u001b[1;32m-> 5902\u001b[0m \u001b[38;5;28;01mreturn\u001b[39;00m \u001b[38;5;28;43mobject\u001b[39;49m\u001b[38;5;241;43m.\u001b[39;49m\u001b[38;5;21;43m__getattribute__\u001b[39;49m\u001b[43m(\u001b[49m\u001b[38;5;28;43mself\u001b[39;49m\u001b[43m,\u001b[49m\u001b[43m \u001b[49m\u001b[43mname\u001b[49m\u001b[43m)\u001b[49m\n",
      "File \u001b[1;32mC:\\ProgramData\\anaconda3\\lib\\site-packages\\pandas\\core\\accessor.py:182\u001b[0m, in \u001b[0;36mCachedAccessor.__get__\u001b[1;34m(self, obj, cls)\u001b[0m\n\u001b[0;32m    179\u001b[0m \u001b[38;5;28;01mif\u001b[39;00m obj \u001b[38;5;129;01mis\u001b[39;00m \u001b[38;5;28;01mNone\u001b[39;00m:\n\u001b[0;32m    180\u001b[0m     \u001b[38;5;66;03m# we're accessing the attribute of the class, i.e., Dataset.geo\u001b[39;00m\n\u001b[0;32m    181\u001b[0m     \u001b[38;5;28;01mreturn\u001b[39;00m \u001b[38;5;28mself\u001b[39m\u001b[38;5;241m.\u001b[39m_accessor\n\u001b[1;32m--> 182\u001b[0m accessor_obj \u001b[38;5;241m=\u001b[39m \u001b[38;5;28;43mself\u001b[39;49m\u001b[38;5;241;43m.\u001b[39;49m\u001b[43m_accessor\u001b[49m\u001b[43m(\u001b[49m\u001b[43mobj\u001b[49m\u001b[43m)\u001b[49m\n\u001b[0;32m    183\u001b[0m \u001b[38;5;66;03m# Replace the property with the accessor object. Inspired by:\u001b[39;00m\n\u001b[0;32m    184\u001b[0m \u001b[38;5;66;03m# https://www.pydanny.com/cached-property.html\u001b[39;00m\n\u001b[0;32m    185\u001b[0m \u001b[38;5;66;03m# We need to use object.__setattr__ because we overwrite __setattr__ on\u001b[39;00m\n\u001b[0;32m    186\u001b[0m \u001b[38;5;66;03m# NDFrame\u001b[39;00m\n\u001b[0;32m    187\u001b[0m \u001b[38;5;28mobject\u001b[39m\u001b[38;5;241m.\u001b[39m\u001b[38;5;21m__setattr__\u001b[39m(obj, \u001b[38;5;28mself\u001b[39m\u001b[38;5;241m.\u001b[39m_name, accessor_obj)\n",
      "File \u001b[1;32mC:\\ProgramData\\anaconda3\\lib\\site-packages\\pandas\\core\\strings\\accessor.py:181\u001b[0m, in \u001b[0;36mStringMethods.__init__\u001b[1;34m(self, data)\u001b[0m\n\u001b[0;32m    178\u001b[0m \u001b[38;5;28;01mdef\u001b[39;00m \u001b[38;5;21m__init__\u001b[39m(\u001b[38;5;28mself\u001b[39m, data) \u001b[38;5;241m-\u001b[39m\u001b[38;5;241m>\u001b[39m \u001b[38;5;28;01mNone\u001b[39;00m:\n\u001b[0;32m    179\u001b[0m     \u001b[38;5;28;01mfrom\u001b[39;00m \u001b[38;5;21;01mpandas\u001b[39;00m\u001b[38;5;21;01m.\u001b[39;00m\u001b[38;5;21;01mcore\u001b[39;00m\u001b[38;5;21;01m.\u001b[39;00m\u001b[38;5;21;01marrays\u001b[39;00m\u001b[38;5;21;01m.\u001b[39;00m\u001b[38;5;21;01mstring_\u001b[39;00m \u001b[38;5;28;01mimport\u001b[39;00m StringDtype\n\u001b[1;32m--> 181\u001b[0m     \u001b[38;5;28mself\u001b[39m\u001b[38;5;241m.\u001b[39m_inferred_dtype \u001b[38;5;241m=\u001b[39m \u001b[38;5;28;43mself\u001b[39;49m\u001b[38;5;241;43m.\u001b[39;49m\u001b[43m_validate\u001b[49m\u001b[43m(\u001b[49m\u001b[43mdata\u001b[49m\u001b[43m)\u001b[49m\n\u001b[0;32m    182\u001b[0m     \u001b[38;5;28mself\u001b[39m\u001b[38;5;241m.\u001b[39m_is_categorical \u001b[38;5;241m=\u001b[39m is_categorical_dtype(data\u001b[38;5;241m.\u001b[39mdtype)\n\u001b[0;32m    183\u001b[0m     \u001b[38;5;28mself\u001b[39m\u001b[38;5;241m.\u001b[39m_is_string \u001b[38;5;241m=\u001b[39m \u001b[38;5;28misinstance\u001b[39m(data\u001b[38;5;241m.\u001b[39mdtype, StringDtype)\n",
      "File \u001b[1;32mC:\\ProgramData\\anaconda3\\lib\\site-packages\\pandas\\core\\strings\\accessor.py:235\u001b[0m, in \u001b[0;36mStringMethods._validate\u001b[1;34m(data)\u001b[0m\n\u001b[0;32m    232\u001b[0m inferred_dtype \u001b[38;5;241m=\u001b[39m lib\u001b[38;5;241m.\u001b[39minfer_dtype(values, skipna\u001b[38;5;241m=\u001b[39m\u001b[38;5;28;01mTrue\u001b[39;00m)\n\u001b[0;32m    234\u001b[0m \u001b[38;5;28;01mif\u001b[39;00m inferred_dtype \u001b[38;5;129;01mnot\u001b[39;00m \u001b[38;5;129;01min\u001b[39;00m allowed_types:\n\u001b[1;32m--> 235\u001b[0m     \u001b[38;5;28;01mraise\u001b[39;00m \u001b[38;5;167;01mAttributeError\u001b[39;00m(\u001b[38;5;124m\"\u001b[39m\u001b[38;5;124mCan only use .str accessor with string values!\u001b[39m\u001b[38;5;124m\"\u001b[39m)\n\u001b[0;32m    236\u001b[0m \u001b[38;5;28;01mreturn\u001b[39;00m inferred_dtype\n",
      "\u001b[1;31mAttributeError\u001b[0m: Can only use .str accessor with string values!"
     ]
    }
   ],
   "source": [
    "#changing the user id of the data to just number and removing the word 'User' from the data\n",
    "df1['User_ID'] = df1['User_ID'].str.extract(r'(\\d+)')"
   ]
  },
  {
   "cell_type": "code",
   "execution_count": 19,
   "id": "abe0fd0e",
   "metadata": {},
   "outputs": [
    {
     "name": "stdout",
     "output_type": "stream",
     "text": [
      "<class 'pandas.core.frame.DataFrame'>\n",
      "RangeIndex: 5000 entries, 0 to 4999\n",
      "Data columns (total 3 columns):\n",
      " #   Column              Non-Null Count  Dtype \n",
      "---  ------              --------------  ----- \n",
      " 0   User_ID             5000 non-null   object\n",
      " 1   Page_Viewed         5000 non-null   object\n",
      " 2   Time_Spent_Seconds  5000 non-null   int64 \n",
      "dtypes: int64(1), object(2)\n",
      "memory usage: 117.3+ KB\n"
     ]
    }
   ],
   "source": [
    "df1.info()"
   ]
  },
  {
   "cell_type": "code",
   "execution_count": 95,
   "id": "ca36a54d",
   "metadata": {},
   "outputs": [
    {
     "data": {
      "text/html": [
       "<div>\n",
       "<style scoped>\n",
       "    .dataframe tbody tr th:only-of-type {\n",
       "        vertical-align: middle;\n",
       "    }\n",
       "\n",
       "    .dataframe tbody tr th {\n",
       "        vertical-align: top;\n",
       "    }\n",
       "\n",
       "    .dataframe thead th {\n",
       "        text-align: right;\n",
       "    }\n",
       "</style>\n",
       "<table border=\"1\" class=\"dataframe\">\n",
       "  <thead>\n",
       "    <tr style=\"text-align: right;\">\n",
       "      <th></th>\n",
       "      <th>User_ID</th>\n",
       "      <th>Page_Viewed</th>\n",
       "      <th>Time_Spent_Seconds</th>\n",
       "    </tr>\n",
       "  </thead>\n",
       "  <tbody>\n",
       "    <tr>\n",
       "      <th>2790</th>\n",
       "      <td>1014</td>\n",
       "      <td>Category Page</td>\n",
       "      <td>106</td>\n",
       "    </tr>\n",
       "    <tr>\n",
       "      <th>3768</th>\n",
       "      <td>2675</td>\n",
       "      <td>Checkout Page</td>\n",
       "      <td>345</td>\n",
       "    </tr>\n",
       "    <tr>\n",
       "      <th>993</th>\n",
       "      <td>2041</td>\n",
       "      <td>Homepage</td>\n",
       "      <td>18</td>\n",
       "    </tr>\n",
       "    <tr>\n",
       "      <th>1396</th>\n",
       "      <td>3637</td>\n",
       "      <td>Cart Page</td>\n",
       "      <td>318</td>\n",
       "    </tr>\n",
       "    <tr>\n",
       "      <th>119</th>\n",
       "      <td>765</td>\n",
       "      <td>Category Page</td>\n",
       "      <td>512</td>\n",
       "    </tr>\n",
       "    <tr>\n",
       "      <th>3501</th>\n",
       "      <td>252</td>\n",
       "      <td>Homepage</td>\n",
       "      <td>444</td>\n",
       "    </tr>\n",
       "    <tr>\n",
       "      <th>4674</th>\n",
       "      <td>3080</td>\n",
       "      <td>Checkout Page</td>\n",
       "      <td>323</td>\n",
       "    </tr>\n",
       "    <tr>\n",
       "      <th>138</th>\n",
       "      <td>3830</td>\n",
       "      <td>Category Page</td>\n",
       "      <td>387</td>\n",
       "    </tr>\n",
       "    <tr>\n",
       "      <th>148</th>\n",
       "      <td>1006</td>\n",
       "      <td>Cart Page</td>\n",
       "      <td>139</td>\n",
       "    </tr>\n",
       "    <tr>\n",
       "      <th>820</th>\n",
       "      <td>4058</td>\n",
       "      <td>Category Page</td>\n",
       "      <td>95</td>\n",
       "    </tr>\n",
       "  </tbody>\n",
       "</table>\n",
       "</div>"
      ],
      "text/plain": [
       "     User_ID    Page_Viewed  Time_Spent_Seconds\n",
       "2790    1014  Category Page                 106\n",
       "3768    2675  Checkout Page                 345\n",
       "993     2041       Homepage                  18\n",
       "1396    3637      Cart Page                 318\n",
       "119      765  Category Page                 512\n",
       "3501     252       Homepage                 444\n",
       "4674    3080  Checkout Page                 323\n",
       "138     3830  Category Page                 387\n",
       "148     1006      Cart Page                 139\n",
       "820     4058  Category Page                  95"
      ]
     },
     "execution_count": 95,
     "metadata": {},
     "output_type": "execute_result"
    }
   ],
   "source": [
    "df1.sample(10)"
   ]
  },
  {
   "cell_type": "code",
   "execution_count": 101,
   "id": "9a6ef337",
   "metadata": {},
   "outputs": [
    {
     "name": "stdout",
     "output_type": "stream",
     "text": [
      "<class 'pandas.core.frame.DataFrame'>\n",
      "RangeIndex: 5000 entries, 0 to 4999\n",
      "Data columns (total 3 columns):\n",
      " #   Column              Non-Null Count  Dtype   \n",
      "---  ------              --------------  -----   \n",
      " 0   User_ID             5000 non-null   int32   \n",
      " 1   Page_Viewed         5000 non-null   category\n",
      " 2   Time_Spent_Seconds  5000 non-null   int64   \n",
      "dtypes: category(1), int32(1), int64(1)\n",
      "memory usage: 63.8 KB\n"
     ]
    }
   ],
   "source": [
    "#changing user id data type as int for better preprocessing\n",
    "df1['User_ID']=df1['User_ID'].astype(int)\n",
    "df1['Page_Viewed']=df1['Page_Viewed'].astype('category')\n",
    "df1.info()"
   ]
  },
  {
   "cell_type": "code",
   "execution_count": 9,
   "id": "216792a3",
   "metadata": {},
   "outputs": [
    {
     "data": {
      "text/html": [
       "<div>\n",
       "<style scoped>\n",
       "    .dataframe tbody tr th:only-of-type {\n",
       "        vertical-align: middle;\n",
       "    }\n",
       "\n",
       "    .dataframe tbody tr th {\n",
       "        vertical-align: top;\n",
       "    }\n",
       "\n",
       "    .dataframe thead th {\n",
       "        text-align: right;\n",
       "    }\n",
       "</style>\n",
       "<table border=\"1\" class=\"dataframe\">\n",
       "  <thead>\n",
       "    <tr style=\"text-align: right;\">\n",
       "      <th></th>\n",
       "      <th>Time_Spent_Seconds</th>\n",
       "    </tr>\n",
       "  </thead>\n",
       "  <tbody>\n",
       "    <tr>\n",
       "      <th>count</th>\n",
       "      <td>5000.000000</td>\n",
       "    </tr>\n",
       "    <tr>\n",
       "      <th>mean</th>\n",
       "      <td>304.508800</td>\n",
       "    </tr>\n",
       "    <tr>\n",
       "      <th>std</th>\n",
       "      <td>168.978666</td>\n",
       "    </tr>\n",
       "    <tr>\n",
       "      <th>min</th>\n",
       "      <td>10.000000</td>\n",
       "    </tr>\n",
       "    <tr>\n",
       "      <th>25%</th>\n",
       "      <td>160.000000</td>\n",
       "    </tr>\n",
       "    <tr>\n",
       "      <th>50%</th>\n",
       "      <td>301.000000</td>\n",
       "    </tr>\n",
       "    <tr>\n",
       "      <th>75%</th>\n",
       "      <td>452.000000</td>\n",
       "    </tr>\n",
       "    <tr>\n",
       "      <th>max</th>\n",
       "      <td>599.000000</td>\n",
       "    </tr>\n",
       "  </tbody>\n",
       "</table>\n",
       "</div>"
      ],
      "text/plain": [
       "       Time_Spent_Seconds\n",
       "count         5000.000000\n",
       "mean           304.508800\n",
       "std            168.978666\n",
       "min             10.000000\n",
       "25%            160.000000\n",
       "50%            301.000000\n",
       "75%            452.000000\n",
       "max            599.000000"
      ]
     },
     "execution_count": 9,
     "metadata": {},
     "output_type": "execute_result"
    }
   ],
   "source": [
    "df1.describe()"
   ]
  },
  {
   "cell_type": "code",
   "execution_count": 10,
   "id": "3ce70d1d",
   "metadata": {},
   "outputs": [
    {
     "data": {
      "image/png": "[encoded data removed]",
      "text/plain": [
       "<Figure size 640x480 with 1 Axes>"
      ]
     },
     "metadata": {},
     "output_type": "display_data"
    }
   ],
   "source": [
    "#checking for the outliers\n",
    "df1.boxplot(column='Time_Spent_Seconds')\n",
    "plt.show()"
   ]
  },
  {
   "cell_type": "code",
   "execution_count": 11,
   "id": "1bbd0d03",
   "metadata": {},
   "outputs": [
    {
     "data": {
      "text/plain": [
       "Homepage         1045\n",
       "Cart Page        1041\n",
       "Checkout Page     989\n",
       "Category Page     972\n",
       "Product Page      953\n",
       "Name: Page_Viewed, dtype: int64"
      ]
     },
     "execution_count": 11,
     "metadata": {},
     "output_type": "execute_result"
    }
   ],
   "source": [
    "counts=df1['Page_Viewed'].value_counts()\n",
    "counts"
   ]
  },
  {
   "cell_type": "code",
   "execution_count": 17,
   "id": "2ce65f89",
   "metadata": {},
   "outputs": [
    {
     "data": {
      "image/png": "[encoded data removed]",
      "text/plain": [
       "<Figure size 640x480 with 1 Axes>"
      ]
     },
     "metadata": {},
     "output_type": "display_data"
    }
   ],
   "source": [
    "ax=sns.countplot(x='Page_Viewed',data=df1)\n",
    "for bars in ax.containers:\n",
    "    ax.bar_label(bars)\n",
    "plt.show()"
   ]
  },
  {
   "cell_type": "markdown",
   "id": "72ccce65",
   "metadata": {},
   "source": [
    "NOW checking and reviewing second data set"
   ]
  },
  {
   "cell_type": "code",
   "execution_count": 59,
   "id": "12d62f4f",
   "metadata": {},
   "outputs": [
    {
     "data": {
      "text/html": [
       "<div>\n",
       "<style scoped>\n",
       "    .dataframe tbody tr th:only-of-type {\n",
       "        vertical-align: middle;\n",
       "    }\n",
       "\n",
       "    .dataframe tbody tr th {\n",
       "        vertical-align: top;\n",
       "    }\n",
       "\n",
       "    .dataframe thead th {\n",
       "        text-align: right;\n",
       "    }\n",
       "</style>\n",
       "<table border=\"1\" class=\"dataframe\">\n",
       "  <thead>\n",
       "    <tr style=\"text-align: right;\">\n",
       "      <th></th>\n",
       "      <th>Purchase_ID</th>\n",
       "      <th>User_ID</th>\n",
       "      <th>Product_ID</th>\n",
       "      <th>Transaction_Amount</th>\n",
       "      <th>Purchase_Time</th>\n",
       "    </tr>\n",
       "  </thead>\n",
       "  <tbody>\n",
       "    <tr>\n",
       "      <th>0</th>\n",
       "      <td>948</td>\n",
       "      <td>3840</td>\n",
       "      <td>19.0</td>\n",
       "      <td>62.843031</td>\n",
       "      <td>2023-04-02 16:35:46</td>\n",
       "    </tr>\n",
       "    <tr>\n",
       "      <th>1</th>\n",
       "      <td>905</td>\n",
       "      <td>1846</td>\n",
       "      <td>9.0</td>\n",
       "      <td>21.780079</td>\n",
       "      <td>2023-04-14 16:38:27</td>\n",
       "    </tr>\n",
       "    <tr>\n",
       "      <th>2</th>\n",
       "      <td>704</td>\n",
       "      <td>1700</td>\n",
       "      <td>8.0</td>\n",
       "      <td>138.264455</td>\n",
       "      <td>2023-01-21 11:21:31</td>\n",
       "    </tr>\n",
       "    <tr>\n",
       "      <th>3</th>\n",
       "      <td>766</td>\n",
       "      <td>4117</td>\n",
       "      <td>15.0</td>\n",
       "      <td>74.991367</td>\n",
       "      <td>2023-01-29 04:44:04</td>\n",
       "    </tr>\n",
       "    <tr>\n",
       "      <th>4</th>\n",
       "      <td>36</td>\n",
       "      <td>3053</td>\n",
       "      <td>7.0</td>\n",
       "      <td>162.569998</td>\n",
       "      <td>2023-05-24 03:30:23</td>\n",
       "    </tr>\n",
       "  </tbody>\n",
       "</table>\n",
       "</div>"
      ],
      "text/plain": [
       "   Purchase_ID  User_ID  Product_ID  Transaction_Amount        Purchase_Time\n",
       "0          948     3840        19.0           62.843031  2023-04-02 16:35:46\n",
       "1          905     1846         9.0           21.780079  2023-04-14 16:38:27\n",
       "2          704     1700         8.0          138.264455  2023-01-21 11:21:31\n",
       "3          766     4117        15.0           74.991367  2023-01-29 04:44:04\n",
       "4           36     3053         7.0          162.569998  2023-05-24 03:30:23"
      ]
     },
     "execution_count": 59,
     "metadata": {},
     "output_type": "execute_result"
    }
   ],
   "source": [
    "df2.head()"
   ]
  },
  {
   "cell_type": "code",
   "execution_count": 51,
   "id": "71bc920b",
   "metadata": {},
   "outputs": [
    {
     "name": "stdout",
     "output_type": "stream",
     "text": [
      "<class 'pandas.core.frame.DataFrame'>\n",
      "RangeIndex: 1000 entries, 0 to 999\n",
      "Data columns (total 5 columns):\n",
      " #   Column              Non-Null Count  Dtype  \n",
      "---  ------              --------------  -----  \n",
      " 0   Purchase_ID         1000 non-null   object \n",
      " 1   User_ID             1000 non-null   object \n",
      " 2   Product_ID          1000 non-null   object \n",
      " 3   Transaction_Amount  1000 non-null   float64\n",
      " 4   Purchase_Time       1000 non-null   object \n",
      "dtypes: float64(1), object(4)\n",
      "memory usage: 39.2+ KB\n"
     ]
    }
   ],
   "source": [
    "df2.info()"
   ]
  },
  {
   "cell_type": "code",
   "execution_count": 53,
   "id": "4d495ca1",
   "metadata": {},
   "outputs": [],
   "source": [
    "# first of all change the user id and product id in the standard format\n",
    "df2['User_ID'] = df2['User_ID'].str.extract(r'(\\d+)')\n",
    "df2['Product_ID'] = df2['Product_ID'].str.extract(r'(\\d+)')\n",
    "df2['Purchase_ID'] = df2['Purchase_ID'].str.extract(r'(\\d+)')"
   ]
  },
  {
   "cell_type": "code",
   "execution_count": 54,
   "id": "03378ce9",
   "metadata": {},
   "outputs": [
    {
     "data": {
      "text/html": [
       "<div>\n",
       "<style scoped>\n",
       "    .dataframe tbody tr th:only-of-type {\n",
       "        vertical-align: middle;\n",
       "    }\n",
       "\n",
       "    .dataframe tbody tr th {\n",
       "        vertical-align: top;\n",
       "    }\n",
       "\n",
       "    .dataframe thead th {\n",
       "        text-align: right;\n",
       "    }\n",
       "</style>\n",
       "<table border=\"1\" class=\"dataframe\">\n",
       "  <thead>\n",
       "    <tr style=\"text-align: right;\">\n",
       "      <th></th>\n",
       "      <th>Purchase_ID</th>\n",
       "      <th>User_ID</th>\n",
       "      <th>Product_ID</th>\n",
       "      <th>Transaction_Amount</th>\n",
       "      <th>Purchase_Time</th>\n",
       "    </tr>\n",
       "  </thead>\n",
       "  <tbody>\n",
       "    <tr>\n",
       "      <th>0</th>\n",
       "      <td>948</td>\n",
       "      <td>3840</td>\n",
       "      <td>19</td>\n",
       "      <td>62.843031</td>\n",
       "      <td>2023-04-02 16:35:46</td>\n",
       "    </tr>\n",
       "    <tr>\n",
       "      <th>1</th>\n",
       "      <td>905</td>\n",
       "      <td>1846</td>\n",
       "      <td>9</td>\n",
       "      <td>21.780079</td>\n",
       "      <td>2023-04-14 16:38:27</td>\n",
       "    </tr>\n",
       "    <tr>\n",
       "      <th>2</th>\n",
       "      <td>704</td>\n",
       "      <td>1700</td>\n",
       "      <td>8</td>\n",
       "      <td>138.264455</td>\n",
       "      <td>2023-01-21 11:21:31</td>\n",
       "    </tr>\n",
       "    <tr>\n",
       "      <th>3</th>\n",
       "      <td>766</td>\n",
       "      <td>4117</td>\n",
       "      <td>15</td>\n",
       "      <td>74.991367</td>\n",
       "      <td>2023-01-29 04:44:04</td>\n",
       "    </tr>\n",
       "    <tr>\n",
       "      <th>4</th>\n",
       "      <td>36</td>\n",
       "      <td>3053</td>\n",
       "      <td>7</td>\n",
       "      <td>162.569998</td>\n",
       "      <td>2023-05-24 03:30:23</td>\n",
       "    </tr>\n",
       "  </tbody>\n",
       "</table>\n",
       "</div>"
      ],
      "text/plain": [
       "  Purchase_ID User_ID Product_ID  Transaction_Amount        Purchase_Time\n",
       "0         948    3840         19           62.843031  2023-04-02 16:35:46\n",
       "1         905    1846          9           21.780079  2023-04-14 16:38:27\n",
       "2         704    1700          8          138.264455  2023-01-21 11:21:31\n",
       "3         766    4117         15           74.991367  2023-01-29 04:44:04\n",
       "4          36    3053          7          162.569998  2023-05-24 03:30:23"
      ]
     },
     "execution_count": 54,
     "metadata": {},
     "output_type": "execute_result"
    }
   ],
   "source": [
    "df2.head()"
   ]
  },
  {
   "cell_type": "code",
   "execution_count": null,
   "id": "0597bc22",
   "metadata": {},
   "outputs": [],
   "source": []
  },
  {
   "cell_type": "code",
   "execution_count": 102,
   "id": "27f10394",
   "metadata": {},
   "outputs": [],
   "source": [
    "#now changing the data types of the data to ensure the quality of the product\n",
    "data_type_conversions = {\n",
    "   'Purchase_ID': int,\n",
    "   'User_ID': int,\n",
    "   'Product_ID': float\n",
    "    \n",
    "}\n",
    "df2=df2.astype(data_type_conversions)"
   ]
  },
  {
   "cell_type": "code",
   "execution_count": 40,
   "id": "5d6d07af",
   "metadata": {},
   "outputs": [
    {
     "name": "stdout",
     "output_type": "stream",
     "text": [
      "<class 'pandas.core.frame.DataFrame'>\n",
      "RangeIndex: 1000 entries, 0 to 999\n",
      "Data columns (total 6 columns):\n",
      " #   Column              Non-Null Count  Dtype  \n",
      "---  ------              --------------  -----  \n",
      " 0   Purchase_ID         1000 non-null   int32  \n",
      " 1   User_ID             1000 non-null   int32  \n",
      " 2   Product_ID          1000 non-null   float64\n",
      " 3   Transaction_Amount  1000 non-null   float64\n",
      " 4   Purchase_Time       1000 non-null   object \n",
      " 5   Product_Id          1000 non-null   object \n",
      "dtypes: float64(2), int32(2), object(2)\n",
      "memory usage: 39.2+ KB\n"
     ]
    }
   ],
   "source": [
    "df2.info()"
   ]
  },
  {
   "cell_type": "code",
   "execution_count": 56,
   "id": "9cff071d",
   "metadata": {},
   "outputs": [
    {
     "data": {
      "text/html": [
       "<div>\n",
       "<style scoped>\n",
       "    .dataframe tbody tr th:only-of-type {\n",
       "        vertical-align: middle;\n",
       "    }\n",
       "\n",
       "    .dataframe tbody tr th {\n",
       "        vertical-align: top;\n",
       "    }\n",
       "\n",
       "    .dataframe thead th {\n",
       "        text-align: right;\n",
       "    }\n",
       "</style>\n",
       "<table border=\"1\" class=\"dataframe\">\n",
       "  <thead>\n",
       "    <tr style=\"text-align: right;\">\n",
       "      <th></th>\n",
       "      <th>Purchase_ID</th>\n",
       "      <th>User_ID</th>\n",
       "      <th>Product_ID</th>\n",
       "      <th>Transaction_Amount</th>\n",
       "      <th>Purchase_Time</th>\n",
       "    </tr>\n",
       "  </thead>\n",
       "  <tbody>\n",
       "    <tr>\n",
       "      <th>0</th>\n",
       "      <td>948</td>\n",
       "      <td>3840</td>\n",
       "      <td>19.0</td>\n",
       "      <td>62.843031</td>\n",
       "      <td>2023-04-02 16:35:46</td>\n",
       "    </tr>\n",
       "    <tr>\n",
       "      <th>1</th>\n",
       "      <td>905</td>\n",
       "      <td>1846</td>\n",
       "      <td>9.0</td>\n",
       "      <td>21.780079</td>\n",
       "      <td>2023-04-14 16:38:27</td>\n",
       "    </tr>\n",
       "    <tr>\n",
       "      <th>2</th>\n",
       "      <td>704</td>\n",
       "      <td>1700</td>\n",
       "      <td>8.0</td>\n",
       "      <td>138.264455</td>\n",
       "      <td>2023-01-21 11:21:31</td>\n",
       "    </tr>\n",
       "    <tr>\n",
       "      <th>3</th>\n",
       "      <td>766</td>\n",
       "      <td>4117</td>\n",
       "      <td>15.0</td>\n",
       "      <td>74.991367</td>\n",
       "      <td>2023-01-29 04:44:04</td>\n",
       "    </tr>\n",
       "    <tr>\n",
       "      <th>4</th>\n",
       "      <td>36</td>\n",
       "      <td>3053</td>\n",
       "      <td>7.0</td>\n",
       "      <td>162.569998</td>\n",
       "      <td>2023-05-24 03:30:23</td>\n",
       "    </tr>\n",
       "  </tbody>\n",
       "</table>\n",
       "</div>"
      ],
      "text/plain": [
       "   Purchase_ID  User_ID  Product_ID  Transaction_Amount        Purchase_Time\n",
       "0          948     3840        19.0           62.843031  2023-04-02 16:35:46\n",
       "1          905     1846         9.0           21.780079  2023-04-14 16:38:27\n",
       "2          704     1700         8.0          138.264455  2023-01-21 11:21:31\n",
       "3          766     4117        15.0           74.991367  2023-01-29 04:44:04\n",
       "4           36     3053         7.0          162.569998  2023-05-24 03:30:23"
      ]
     },
     "execution_count": 56,
     "metadata": {},
     "output_type": "execute_result"
    }
   ],
   "source": [
    "df2.head()"
   ]
  },
  {
   "cell_type": "code",
   "execution_count": 61,
   "id": "c40c4b99",
   "metadata": {},
   "outputs": [],
   "source": [
    "df2=df2.drop('Product_Id',axis=1)"
   ]
  },
  {
   "cell_type": "code",
   "execution_count": 67,
   "id": "a7c87e6f",
   "metadata": {},
   "outputs": [
    {
     "name": "stdout",
     "output_type": "stream",
     "text": [
      "<class 'pandas.core.frame.DataFrame'>\n",
      "RangeIndex: 1000 entries, 0 to 999\n",
      "Data columns (total 5 columns):\n",
      " #   Column              Non-Null Count  Dtype         \n",
      "---  ------              --------------  -----         \n",
      " 0   Purchase_ID         1000 non-null   int32         \n",
      " 1   User_ID             1000 non-null   int32         \n",
      " 2   Product_ID          1000 non-null   float64       \n",
      " 3   Transaction_Amount  1000 non-null   float64       \n",
      " 4   Purchase_Time       1000 non-null   datetime64[ns]\n",
      "dtypes: datetime64[ns](1), float64(2), int32(2)\n",
      "memory usage: 31.4 KB\n"
     ]
    }
   ],
   "source": [
    "#CHANGING THE DATE TIME FORMAT OF THE DATA\n",
    "df2['Purchase_Time']=pd.to_datetime(df2['Purchase_Time'])\n",
    "df2.info()"
   ]
  },
  {
   "cell_type": "code",
   "execution_count": 64,
   "id": "7877f5bf",
   "metadata": {},
   "outputs": [
    {
     "data": {
      "text/html": [
       "<div>\n",
       "<style scoped>\n",
       "    .dataframe tbody tr th:only-of-type {\n",
       "        vertical-align: middle;\n",
       "    }\n",
       "\n",
       "    .dataframe tbody tr th {\n",
       "        vertical-align: top;\n",
       "    }\n",
       "\n",
       "    .dataframe thead th {\n",
       "        text-align: right;\n",
       "    }\n",
       "</style>\n",
       "<table border=\"1\" class=\"dataframe\">\n",
       "  <thead>\n",
       "    <tr style=\"text-align: right;\">\n",
       "      <th></th>\n",
       "      <th>Purchase_ID</th>\n",
       "      <th>User_ID</th>\n",
       "      <th>Product_ID</th>\n",
       "      <th>Transaction_Amount</th>\n",
       "    </tr>\n",
       "  </thead>\n",
       "  <tbody>\n",
       "    <tr>\n",
       "      <th>count</th>\n",
       "      <td>1000.000000</td>\n",
       "      <td>1000.000000</td>\n",
       "      <td>1000.000000</td>\n",
       "      <td>1000.000000</td>\n",
       "    </tr>\n",
       "    <tr>\n",
       "      <th>mean</th>\n",
       "      <td>497.073000</td>\n",
       "      <td>2513.056000</td>\n",
       "      <td>10.726000</td>\n",
       "      <td>106.348744</td>\n",
       "    </tr>\n",
       "    <tr>\n",
       "      <th>std</th>\n",
       "      <td>286.093417</td>\n",
       "      <td>1420.089414</td>\n",
       "      <td>5.873621</td>\n",
       "      <td>55.951244</td>\n",
       "    </tr>\n",
       "    <tr>\n",
       "      <th>min</th>\n",
       "      <td>1.000000</td>\n",
       "      <td>2.000000</td>\n",
       "      <td>1.000000</td>\n",
       "      <td>10.429825</td>\n",
       "    </tr>\n",
       "    <tr>\n",
       "      <th>25%</th>\n",
       "      <td>258.750000</td>\n",
       "      <td>1333.500000</td>\n",
       "      <td>5.000000</td>\n",
       "      <td>58.426058</td>\n",
       "    </tr>\n",
       "    <tr>\n",
       "      <th>50%</th>\n",
       "      <td>493.000000</td>\n",
       "      <td>2412.500000</td>\n",
       "      <td>11.000000</td>\n",
       "      <td>102.950857</td>\n",
       "    </tr>\n",
       "    <tr>\n",
       "      <th>75%</th>\n",
       "      <td>748.250000</td>\n",
       "      <td>3794.750000</td>\n",
       "      <td>16.000000</td>\n",
       "      <td>157.533495</td>\n",
       "    </tr>\n",
       "    <tr>\n",
       "      <th>max</th>\n",
       "      <td>998.000000</td>\n",
       "      <td>4999.000000</td>\n",
       "      <td>20.000000</td>\n",
       "      <td>199.961345</td>\n",
       "    </tr>\n",
       "  </tbody>\n",
       "</table>\n",
       "</div>"
      ],
      "text/plain": [
       "       Purchase_ID      User_ID   Product_ID  Transaction_Amount\n",
       "count  1000.000000  1000.000000  1000.000000         1000.000000\n",
       "mean    497.073000  2513.056000    10.726000          106.348744\n",
       "std     286.093417  1420.089414     5.873621           55.951244\n",
       "min       1.000000     2.000000     1.000000           10.429825\n",
       "25%     258.750000  1333.500000     5.000000           58.426058\n",
       "50%     493.000000  2412.500000    11.000000          102.950857\n",
       "75%     748.250000  3794.750000    16.000000          157.533495\n",
       "max     998.000000  4999.000000    20.000000          199.961345"
      ]
     },
     "execution_count": 64,
     "metadata": {},
     "output_type": "execute_result"
    }
   ],
   "source": [
    "df2.describe()"
   ]
  },
  {
   "cell_type": "code",
   "execution_count": 65,
   "id": "f141049c",
   "metadata": {},
   "outputs": [
    {
     "data": {
      "image/png": "[encoded data removed]",
      "text/plain": [
       "<Figure size 640x480 with 1 Axes>"
      ]
     },
     "metadata": {},
     "output_type": "display_data"
    }
   ],
   "source": [
    "df2.boxplot(column='Transaction_Amount')\n",
    "plt.show()\n",
    "#no as such outliers in the data"
   ]
  },
  {
   "cell_type": "code",
   "execution_count": 66,
   "id": "2a7ad820",
   "metadata": {},
   "outputs": [
    {
     "data": {
      "text/html": [
       "<div>\n",
       "<style scoped>\n",
       "    .dataframe tbody tr th:only-of-type {\n",
       "        vertical-align: middle;\n",
       "    }\n",
       "\n",
       "    .dataframe tbody tr th {\n",
       "        vertical-align: top;\n",
       "    }\n",
       "\n",
       "    .dataframe thead th {\n",
       "        text-align: right;\n",
       "    }\n",
       "</style>\n",
       "<table border=\"1\" class=\"dataframe\">\n",
       "  <thead>\n",
       "    <tr style=\"text-align: right;\">\n",
       "      <th></th>\n",
       "      <th>Month</th>\n",
       "      <th>Page_Load_Time</th>\n",
       "      <th>Bounce_Rate</th>\n",
       "      <th>Conversion_Rate</th>\n",
       "    </tr>\n",
       "  </thead>\n",
       "  <tbody>\n",
       "    <tr>\n",
       "      <th>0</th>\n",
       "      <td>2023-01-01</td>\n",
       "      <td>5.106652</td>\n",
       "      <td>0.514345</td>\n",
       "      <td>0.047375</td>\n",
       "    </tr>\n",
       "    <tr>\n",
       "      <th>1</th>\n",
       "      <td>2023-02-01</td>\n",
       "      <td>7.828199</td>\n",
       "      <td>0.317157</td>\n",
       "      <td>0.062764</td>\n",
       "    </tr>\n",
       "    <tr>\n",
       "      <th>2</th>\n",
       "      <td>2023-03-01</td>\n",
       "      <td>3.239983</td>\n",
       "      <td>0.480903</td>\n",
       "      <td>0.050514</td>\n",
       "    </tr>\n",
       "    <tr>\n",
       "      <th>3</th>\n",
       "      <td>2023-04-01</td>\n",
       "      <td>5.954509</td>\n",
       "      <td>0.473572</td>\n",
       "      <td>0.057151</td>\n",
       "    </tr>\n",
       "    <tr>\n",
       "      <th>4</th>\n",
       "      <td>2023-05-01</td>\n",
       "      <td>9.872398</td>\n",
       "      <td>0.542407</td>\n",
       "      <td>0.089525</td>\n",
       "    </tr>\n",
       "  </tbody>\n",
       "</table>\n",
       "</div>"
      ],
      "text/plain": [
       "        Month  Page_Load_Time  Bounce_Rate  Conversion_Rate\n",
       "0  2023-01-01        5.106652     0.514345         0.047375\n",
       "1  2023-02-01        7.828199     0.317157         0.062764\n",
       "2  2023-03-01        3.239983     0.480903         0.050514\n",
       "3  2023-04-01        5.954509     0.473572         0.057151\n",
       "4  2023-05-01        9.872398     0.542407         0.089525"
      ]
     },
     "execution_count": 66,
     "metadata": {},
     "output_type": "execute_result"
    }
   ],
   "source": [
    "df3.head()"
   ]
  },
  {
   "cell_type": "code",
   "execution_count": 67,
   "id": "e13f74a9",
   "metadata": {},
   "outputs": [
    {
     "name": "stdout",
     "output_type": "stream",
     "text": [
      "<class 'pandas.core.frame.DataFrame'>\n",
      "RangeIndex: 12 entries, 0 to 11\n",
      "Data columns (total 4 columns):\n",
      " #   Column           Non-Null Count  Dtype  \n",
      "---  ------           --------------  -----  \n",
      " 0   Month            12 non-null     object \n",
      " 1   Page_Load_Time   12 non-null     float64\n",
      " 2   Bounce_Rate      12 non-null     float64\n",
      " 3   Conversion_Rate  12 non-null     float64\n",
      "dtypes: float64(3), object(1)\n",
      "memory usage: 512.0+ bytes\n"
     ]
    }
   ],
   "source": [
    "df3.info()"
   ]
  },
  {
   "cell_type": "code",
   "execution_count": 72,
   "id": "2d311cca",
   "metadata": {},
   "outputs": [
    {
     "name": "stdout",
     "output_type": "stream",
     "text": [
      "<class 'pandas.core.frame.DataFrame'>\n",
      "RangeIndex: 12 entries, 0 to 11\n",
      "Data columns (total 4 columns):\n",
      " #   Column           Non-Null Count  Dtype         \n",
      "---  ------           --------------  -----         \n",
      " 0   Month            12 non-null     datetime64[ns]\n",
      " 1   Page_Load_Time   12 non-null     float64       \n",
      " 2   Bounce_Rate      12 non-null     float64       \n",
      " 3   Conversion_Rate  12 non-null     float64       \n",
      "dtypes: datetime64[ns](1), float64(3)\n",
      "memory usage: 512.0 bytes\n"
     ]
    }
   ],
   "source": [
    "df3['Month']=pd.to_datetime(df3['Month'])\n",
    "df3.info()"
   ]
  },
  {
   "cell_type": "code",
   "execution_count": 75,
   "id": "27f9412b",
   "metadata": {},
   "outputs": [
    {
     "data": {
      "text/html": [
       "<div>\n",
       "<style scoped>\n",
       "    .dataframe tbody tr th:only-of-type {\n",
       "        vertical-align: middle;\n",
       "    }\n",
       "\n",
       "    .dataframe tbody tr th {\n",
       "        vertical-align: top;\n",
       "    }\n",
       "\n",
       "    .dataframe thead th {\n",
       "        text-align: right;\n",
       "    }\n",
       "</style>\n",
       "<table border=\"1\" class=\"dataframe\">\n",
       "  <thead>\n",
       "    <tr style=\"text-align: right;\">\n",
       "      <th></th>\n",
       "      <th>Month</th>\n",
       "      <th>Page_Load_Time</th>\n",
       "      <th>Bounce_Rate</th>\n",
       "      <th>Conversion_Rate</th>\n",
       "    </tr>\n",
       "  </thead>\n",
       "  <tbody>\n",
       "    <tr>\n",
       "      <th>0</th>\n",
       "      <td>2023-01-01</td>\n",
       "      <td>5.106652</td>\n",
       "      <td>0.514345</td>\n",
       "      <td>0.047375</td>\n",
       "    </tr>\n",
       "    <tr>\n",
       "      <th>1</th>\n",
       "      <td>2023-02-01</td>\n",
       "      <td>7.828199</td>\n",
       "      <td>0.317157</td>\n",
       "      <td>0.062764</td>\n",
       "    </tr>\n",
       "    <tr>\n",
       "      <th>2</th>\n",
       "      <td>2023-03-01</td>\n",
       "      <td>3.239983</td>\n",
       "      <td>0.480903</td>\n",
       "      <td>0.050514</td>\n",
       "    </tr>\n",
       "    <tr>\n",
       "      <th>3</th>\n",
       "      <td>2023-04-01</td>\n",
       "      <td>5.954509</td>\n",
       "      <td>0.473572</td>\n",
       "      <td>0.057151</td>\n",
       "    </tr>\n",
       "    <tr>\n",
       "      <th>4</th>\n",
       "      <td>2023-05-01</td>\n",
       "      <td>9.872398</td>\n",
       "      <td>0.542407</td>\n",
       "      <td>0.089525</td>\n",
       "    </tr>\n",
       "  </tbody>\n",
       "</table>\n",
       "</div>"
      ],
      "text/plain": [
       "       Month  Page_Load_Time  Bounce_Rate  Conversion_Rate\n",
       "0 2023-01-01        5.106652     0.514345         0.047375\n",
       "1 2023-02-01        7.828199     0.317157         0.062764\n",
       "2 2023-03-01        3.239983     0.480903         0.050514\n",
       "3 2023-04-01        5.954509     0.473572         0.057151\n",
       "4 2023-05-01        9.872398     0.542407         0.089525"
      ]
     },
     "execution_count": 75,
     "metadata": {},
     "output_type": "execute_result"
    }
   ],
   "source": [
    "df3.head()"
   ]
  },
  {
   "cell_type": "code",
   "execution_count": 76,
   "id": "ef4ed4d6",
   "metadata": {},
   "outputs": [
    {
     "data": {
      "image/png": "[encoded data removed]",
      "text/plain": [
       "<Figure size 750x750 with 12 Axes>"
      ]
     },
     "metadata": {},
     "output_type": "display_data"
    }
   ],
   "source": [
    "sns.pairplot(df3)\n",
    "plt.show()"
   ]
  },
  {
   "cell_type": "code",
   "execution_count": 78,
   "id": "59b2c834",
   "metadata": {},
   "outputs": [
    {
     "data": {
      "image/png": "[encoded data removed]",
      "text/plain": [
       "<Figure size 640x480 with 1 Axes>"
      ]
     },
     "metadata": {},
     "output_type": "display_data"
    }
   ],
   "source": [
    "df3.boxplot(column='Conversion_Rate')\n",
    "plt.show()"
   ]
  },
  {
   "cell_type": "code",
   "execution_count": 79,
   "id": "87e931f4",
   "metadata": {},
   "outputs": [
    {
     "data": {
      "text/html": [
       "<div>\n",
       "<style scoped>\n",
       "    .dataframe tbody tr th:only-of-type {\n",
       "        vertical-align: middle;\n",
       "    }\n",
       "\n",
       "    .dataframe tbody tr th {\n",
       "        vertical-align: top;\n",
       "    }\n",
       "\n",
       "    .dataframe thead th {\n",
       "        text-align: right;\n",
       "    }\n",
       "</style>\n",
       "<table border=\"1\" class=\"dataframe\">\n",
       "  <thead>\n",
       "    <tr style=\"text-align: right;\">\n",
       "      <th></th>\n",
       "      <th>Page_Load_Time</th>\n",
       "      <th>Bounce_Rate</th>\n",
       "      <th>Conversion_Rate</th>\n",
       "    </tr>\n",
       "  </thead>\n",
       "  <tbody>\n",
       "    <tr>\n",
       "      <th>count</th>\n",
       "      <td>12.000000</td>\n",
       "      <td>12.000000</td>\n",
       "      <td>12.000000</td>\n",
       "    </tr>\n",
       "    <tr>\n",
       "      <th>mean</th>\n",
       "      <td>5.866266</td>\n",
       "      <td>0.452650</td>\n",
       "      <td>0.060056</td>\n",
       "    </tr>\n",
       "    <tr>\n",
       "      <th>std</th>\n",
       "      <td>2.288288</td>\n",
       "      <td>0.086482</td>\n",
       "      <td>0.014993</td>\n",
       "    </tr>\n",
       "    <tr>\n",
       "      <th>min</th>\n",
       "      <td>2.468395</td>\n",
       "      <td>0.301692</td>\n",
       "      <td>0.038263</td>\n",
       "    </tr>\n",
       "    <tr>\n",
       "      <th>25%</th>\n",
       "      <td>4.165375</td>\n",
       "      <td>0.389651</td>\n",
       "      <td>0.048626</td>\n",
       "    </tr>\n",
       "    <tr>\n",
       "      <th>50%</th>\n",
       "      <td>5.621936</td>\n",
       "      <td>0.477238</td>\n",
       "      <td>0.059957</td>\n",
       "    </tr>\n",
       "    <tr>\n",
       "      <th>75%</th>\n",
       "      <td>7.457142</td>\n",
       "      <td>0.517399</td>\n",
       "      <td>0.065832</td>\n",
       "    </tr>\n",
       "    <tr>\n",
       "      <th>max</th>\n",
       "      <td>9.872398</td>\n",
       "      <td>0.566843</td>\n",
       "      <td>0.089525</td>\n",
       "    </tr>\n",
       "  </tbody>\n",
       "</table>\n",
       "</div>"
      ],
      "text/plain": [
       "       Page_Load_Time  Bounce_Rate  Conversion_Rate\n",
       "count       12.000000    12.000000        12.000000\n",
       "mean         5.866266     0.452650         0.060056\n",
       "std          2.288288     0.086482         0.014993\n",
       "min          2.468395     0.301692         0.038263\n",
       "25%          4.165375     0.389651         0.048626\n",
       "50%          5.621936     0.477238         0.059957\n",
       "75%          7.457142     0.517399         0.065832\n",
       "max          9.872398     0.566843         0.089525"
      ]
     },
     "execution_count": 79,
     "metadata": {},
     "output_type": "execute_result"
    }
   ],
   "source": [
    "df3.describe()"
   ]
  },
  {
   "cell_type": "markdown",
   "id": "cc6b0276",
   "metadata": {},
   "source": [
    "# User behaviour Analysis\n"
   ]
  },
  {
   "cell_type": "code",
   "execution_count": 80,
   "id": "fef47def",
   "metadata": {},
   "outputs": [
    {
     "data": {
      "text/html": [
       "<div>\n",
       "<style scoped>\n",
       "    .dataframe tbody tr th:only-of-type {\n",
       "        vertical-align: middle;\n",
       "    }\n",
       "\n",
       "    .dataframe tbody tr th {\n",
       "        vertical-align: top;\n",
       "    }\n",
       "\n",
       "    .dataframe thead th {\n",
       "        text-align: right;\n",
       "    }\n",
       "</style>\n",
       "<table border=\"1\" class=\"dataframe\">\n",
       "  <thead>\n",
       "    <tr style=\"text-align: right;\">\n",
       "      <th></th>\n",
       "      <th>User_ID</th>\n",
       "      <th>Page_Viewed</th>\n",
       "      <th>Time_Spent_Seconds</th>\n",
       "    </tr>\n",
       "  </thead>\n",
       "  <tbody>\n",
       "    <tr>\n",
       "      <th>0</th>\n",
       "      <td>3198</td>\n",
       "      <td>Homepage</td>\n",
       "      <td>560</td>\n",
       "    </tr>\n",
       "    <tr>\n",
       "      <th>1</th>\n",
       "      <td>126</td>\n",
       "      <td>Category Page</td>\n",
       "      <td>168</td>\n",
       "    </tr>\n",
       "    <tr>\n",
       "      <th>2</th>\n",
       "      <td>1376</td>\n",
       "      <td>Category Page</td>\n",
       "      <td>122</td>\n",
       "    </tr>\n",
       "    <tr>\n",
       "      <th>3</th>\n",
       "      <td>1117</td>\n",
       "      <td>Cart Page</td>\n",
       "      <td>329</td>\n",
       "    </tr>\n",
       "    <tr>\n",
       "      <th>4</th>\n",
       "      <td>3683</td>\n",
       "      <td>Category Page</td>\n",
       "      <td>391</td>\n",
       "    </tr>\n",
       "  </tbody>\n",
       "</table>\n",
       "</div>"
      ],
      "text/plain": [
       "   User_ID    Page_Viewed  Time_Spent_Seconds\n",
       "0     3198       Homepage                 560\n",
       "1      126  Category Page                 168\n",
       "2     1376  Category Page                 122\n",
       "3     1117      Cart Page                 329\n",
       "4     3683  Category Page                 391"
      ]
     },
     "execution_count": 80,
     "metadata": {},
     "output_type": "execute_result"
    }
   ],
   "source": [
    "df1.head()"
   ]
  },
  {
   "cell_type": "code",
   "execution_count": 81,
   "id": "c1ed66ef",
   "metadata": {},
   "outputs": [
    {
     "data": {
      "text/plain": [
       "Homepage         1045\n",
       "Cart Page        1041\n",
       "Checkout Page     989\n",
       "Category Page     972\n",
       "Product Page      953\n",
       "Name: Page_Viewed, dtype: int64"
      ]
     },
     "execution_count": 81,
     "metadata": {},
     "output_type": "execute_result"
    }
   ],
   "source": [
    "counts=df1['Page_Viewed'].value_counts()\n",
    "counts"
   ]
  },
  {
   "cell_type": "code",
   "execution_count": 82,
   "id": "eed5bdef",
   "metadata": {},
   "outputs": [
    {
     "data": {
      "image/png": "[encoded data removed]",
      "text/plain": [
       "<Figure size 640x480 with 1 Axes>"
      ]
     },
     "metadata": {},
     "output_type": "display_data"
    }
   ],
   "source": [
    "ax=sns.countplot(x='Page_Viewed',data=df1)\n",
    "for bars in ax.containers:\n",
    "    ax.bar_label(bars)\n",
    "plt.show()\n",
    "#this shows most of the time page visited"
   ]
  },
  {
   "cell_type": "code",
   "execution_count": 86,
   "id": "c98be2cf",
   "metadata": {},
   "outputs": [
    {
     "data": {
      "image/png": "[encoded data removed]",
      "text/plain": [
       "<Figure size 640x480 with 1 Axes>"
      ]
     },
     "metadata": {},
     "output_type": "display_data"
    }
   ],
   "source": [
    "Avg_time_spent=df1.groupby(['Page_Viewed'],as_index=False)['Time_Spent_Seconds'].mean().sort_values(by='Time_Spent_Seconds',ascending=False)\n",
    "ax=sns.barplot(x='Page_Viewed',y='Time_Spent_Seconds',data=Avg_time_spent)\n",
    "for bars in ax.containers:\n",
    "    ax.bar_label(bars)\n",
    "plt.show()\n",
    "#Average time spent on very page"
   ]
  },
  {
   "cell_type": "code",
   "execution_count": 44,
   "id": "a96e2a7c",
   "metadata": {},
   "outputs": [
    {
     "data": {
      "text/plain": [
       "Index(['Homepage', 'Cart Page', 'Checkout Page', 'Category Page',\n",
       "       'Product Page'],\n",
       "      dtype='object')"
      ]
     },
     "execution_count": 44,
     "metadata": {},
     "output_type": "execute_result"
    }
   ],
   "source": [
    "clicks = df1[df1['Time_Spent_Seconds'] > 0]['User_ID'].count()\n",
    "impressions = df1['Page_Viewed'].value_counts()\n",
    "ctr = (clicks / impressions) * 100\n",
    "ctr.index"
   ]
  },
  {
   "cell_type": "code",
   "execution_count": 48,
   "id": "a5f4cd0a",
   "metadata": {},
   "outputs": [
    {
     "data": {
      "image/png": "[encoded data removed]",
      "text/plain": [
       "<Figure size 800x400 with 1 Axes>"
      ]
     },
     "metadata": {},
     "output_type": "display_data"
    }
   ],
   "source": [
    "plt.figure(figsize=(8, 4))\n",
    "plt.bar(ctr.index, ctr.values, color='skyblue')\n",
    "plt.xlabel('Page Viewed')\n",
    "plt.ylabel('Click-Through Rate (%)')\n",
    "plt.title('Click-Through Rate for Different Website Pages')\n",
    "plt.ylim(0, 1000)\n",
    "plt.xticks(rotation=45)\n",
    "plt.grid(axis='y', linestyle='--', alpha=0.7)\n",
    "\n",
    "# Annotate each bar with its value\n",
    "for index, value in enumerate(ctr):\n",
    "    plt.text(index, value + 2, f'{value:.2f}%', ha='center', va='bottom', fontsize=10)\n",
    "\n",
    "plt.show()\n",
    "\n",
    "\n",
    "\n"
   ]
  },
  {
   "cell_type": "markdown",
   "id": "c1d6234e",
   "metadata": {},
   "source": [
    "# Purchase Analysis\n"
   ]
  },
  {
   "cell_type": "code",
   "execution_count": 57,
   "id": "8a11b693",
   "metadata": {},
   "outputs": [
    {
     "data": {
      "text/html": [
       "<div>\n",
       "<style scoped>\n",
       "    .dataframe tbody tr th:only-of-type {\n",
       "        vertical-align: middle;\n",
       "    }\n",
       "\n",
       "    .dataframe tbody tr th {\n",
       "        vertical-align: top;\n",
       "    }\n",
       "\n",
       "    .dataframe thead th {\n",
       "        text-align: right;\n",
       "    }\n",
       "</style>\n",
       "<table border=\"1\" class=\"dataframe\">\n",
       "  <thead>\n",
       "    <tr style=\"text-align: right;\">\n",
       "      <th></th>\n",
       "      <th>Purchase_ID</th>\n",
       "      <th>User_ID</th>\n",
       "      <th>Product_ID</th>\n",
       "      <th>Transaction_Amount</th>\n",
       "      <th>Purchase_Time</th>\n",
       "    </tr>\n",
       "  </thead>\n",
       "  <tbody>\n",
       "    <tr>\n",
       "      <th>0</th>\n",
       "      <td>948</td>\n",
       "      <td>3840</td>\n",
       "      <td>19.0</td>\n",
       "      <td>62.843031</td>\n",
       "      <td>2023-04-02 16:35:46</td>\n",
       "    </tr>\n",
       "    <tr>\n",
       "      <th>1</th>\n",
       "      <td>905</td>\n",
       "      <td>1846</td>\n",
       "      <td>9.0</td>\n",
       "      <td>21.780079</td>\n",
       "      <td>2023-04-14 16:38:27</td>\n",
       "    </tr>\n",
       "    <tr>\n",
       "      <th>2</th>\n",
       "      <td>704</td>\n",
       "      <td>1700</td>\n",
       "      <td>8.0</td>\n",
       "      <td>138.264455</td>\n",
       "      <td>2023-01-21 11:21:31</td>\n",
       "    </tr>\n",
       "    <tr>\n",
       "      <th>3</th>\n",
       "      <td>766</td>\n",
       "      <td>4117</td>\n",
       "      <td>15.0</td>\n",
       "      <td>74.991367</td>\n",
       "      <td>2023-01-29 04:44:04</td>\n",
       "    </tr>\n",
       "    <tr>\n",
       "      <th>4</th>\n",
       "      <td>36</td>\n",
       "      <td>3053</td>\n",
       "      <td>7.0</td>\n",
       "      <td>162.569998</td>\n",
       "      <td>2023-05-24 03:30:23</td>\n",
       "    </tr>\n",
       "  </tbody>\n",
       "</table>\n",
       "</div>"
      ],
      "text/plain": [
       "   Purchase_ID  User_ID  Product_ID  Transaction_Amount        Purchase_Time\n",
       "0          948     3840        19.0           62.843031  2023-04-02 16:35:46\n",
       "1          905     1846         9.0           21.780079  2023-04-14 16:38:27\n",
       "2          704     1700         8.0          138.264455  2023-01-21 11:21:31\n",
       "3          766     4117        15.0           74.991367  2023-01-29 04:44:04\n",
       "4           36     3053         7.0          162.569998  2023-05-24 03:30:23"
      ]
     },
     "execution_count": 57,
     "metadata": {},
     "output_type": "execute_result"
    }
   ],
   "source": [
    "df2.head()"
   ]
  },
  {
   "cell_type": "code",
   "execution_count": 60,
   "id": "7964fead",
   "metadata": {},
   "outputs": [
    {
     "data": {
      "text/html": [
       "<div>\n",
       "<style scoped>\n",
       "    .dataframe tbody tr th:only-of-type {\n",
       "        vertical-align: middle;\n",
       "    }\n",
       "\n",
       "    .dataframe tbody tr th {\n",
       "        vertical-align: top;\n",
       "    }\n",
       "\n",
       "    .dataframe thead th {\n",
       "        text-align: right;\n",
       "    }\n",
       "</style>\n",
       "<table border=\"1\" class=\"dataframe\">\n",
       "  <thead>\n",
       "    <tr style=\"text-align: right;\">\n",
       "      <th></th>\n",
       "      <th>Month</th>\n",
       "      <th>Page_Load_Time</th>\n",
       "      <th>Bounce_Rate</th>\n",
       "      <th>Conversion_Rate</th>\n",
       "    </tr>\n",
       "  </thead>\n",
       "  <tbody>\n",
       "    <tr>\n",
       "      <th>2</th>\n",
       "      <td>2023-03-01</td>\n",
       "      <td>3.239983</td>\n",
       "      <td>0.480903</td>\n",
       "      <td>0.050514</td>\n",
       "    </tr>\n",
       "    <tr>\n",
       "      <th>1</th>\n",
       "      <td>2023-02-01</td>\n",
       "      <td>7.828199</td>\n",
       "      <td>0.317157</td>\n",
       "      <td>0.062764</td>\n",
       "    </tr>\n",
       "    <tr>\n",
       "      <th>5</th>\n",
       "      <td>2023-06-01</td>\n",
       "      <td>7.333456</td>\n",
       "      <td>0.440715</td>\n",
       "      <td>0.048687</td>\n",
       "    </tr>\n",
       "    <tr>\n",
       "      <th>9</th>\n",
       "      <td>2023-10-01</td>\n",
       "      <td>2.468395</td>\n",
       "      <td>0.566843</td>\n",
       "      <td>0.065971</td>\n",
       "    </tr>\n",
       "    <tr>\n",
       "      <th>8</th>\n",
       "      <td>2023-09-01</td>\n",
       "      <td>8.384957</td>\n",
       "      <td>0.301692</td>\n",
       "      <td>0.063365</td>\n",
       "    </tr>\n",
       "  </tbody>\n",
       "</table>\n",
       "</div>"
      ],
      "text/plain": [
       "        Month  Page_Load_Time  Bounce_Rate  Conversion_Rate\n",
       "2  2023-03-01        3.239983     0.480903         0.050514\n",
       "1  2023-02-01        7.828199     0.317157         0.062764\n",
       "5  2023-06-01        7.333456     0.440715         0.048687\n",
       "9  2023-10-01        2.468395     0.566843         0.065971\n",
       "8  2023-09-01        8.384957     0.301692         0.063365"
      ]
     },
     "execution_count": 60,
     "metadata": {},
     "output_type": "execute_result"
    }
   ],
   "source": [
    "df3.sample(5)"
   ]
  },
  {
   "cell_type": "code",
   "execution_count": 66,
   "id": "8731a3db",
   "metadata": {},
   "outputs": [
    {
     "name": "stdout",
     "output_type": "stream",
     "text": [
      "<class 'pandas.core.frame.DataFrame'>\n",
      "RangeIndex: 1000 entries, 0 to 999\n",
      "Data columns (total 5 columns):\n",
      " #   Column              Non-Null Count  Dtype  \n",
      "---  ------              --------------  -----  \n",
      " 0   Purchase_ID         1000 non-null   int32  \n",
      " 1   User_ID             1000 non-null   int32  \n",
      " 2   Product_ID          1000 non-null   float64\n",
      " 3   Transaction_Amount  1000 non-null   float64\n",
      " 4   Purchase_Time       1000 non-null   object \n",
      "dtypes: float64(2), int32(2), object(1)\n",
      "memory usage: 31.4+ KB\n"
     ]
    }
   ],
   "source": [
    "df2.info()"
   ]
  },
  {
   "cell_type": "code",
   "execution_count": 68,
   "id": "f00abaaa",
   "metadata": {},
   "outputs": [],
   "source": [
    "df2['Time'] = df2['Purchase_Time'].dt.time\n",
    "df2['Purchase_date'] = df2['Purchase_Time'].dt.date"
   ]
  },
  {
   "cell_type": "code",
   "execution_count": 72,
   "id": "2f911e67",
   "metadata": {},
   "outputs": [],
   "source": [
    "df2=df2.drop('Purchase_Time',axis=1)"
   ]
  },
  {
   "cell_type": "code",
   "execution_count": 73,
   "id": "7233dbd9",
   "metadata": {},
   "outputs": [
    {
     "data": {
      "text/html": [
       "<div>\n",
       "<style scoped>\n",
       "    .dataframe tbody tr th:only-of-type {\n",
       "        vertical-align: middle;\n",
       "    }\n",
       "\n",
       "    .dataframe tbody tr th {\n",
       "        vertical-align: top;\n",
       "    }\n",
       "\n",
       "    .dataframe thead th {\n",
       "        text-align: right;\n",
       "    }\n",
       "</style>\n",
       "<table border=\"1\" class=\"dataframe\">\n",
       "  <thead>\n",
       "    <tr style=\"text-align: right;\">\n",
       "      <th></th>\n",
       "      <th>Purchase_ID</th>\n",
       "      <th>User_ID</th>\n",
       "      <th>Product_ID</th>\n",
       "      <th>Transaction_Amount</th>\n",
       "      <th>Time</th>\n",
       "      <th>Purchase_date</th>\n",
       "    </tr>\n",
       "  </thead>\n",
       "  <tbody>\n",
       "    <tr>\n",
       "      <th>0</th>\n",
       "      <td>948</td>\n",
       "      <td>3840</td>\n",
       "      <td>19.0</td>\n",
       "      <td>62.843031</td>\n",
       "      <td>16:35:46</td>\n",
       "      <td>2023-04-02</td>\n",
       "    </tr>\n",
       "    <tr>\n",
       "      <th>1</th>\n",
       "      <td>905</td>\n",
       "      <td>1846</td>\n",
       "      <td>9.0</td>\n",
       "      <td>21.780079</td>\n",
       "      <td>16:38:27</td>\n",
       "      <td>2023-04-14</td>\n",
       "    </tr>\n",
       "    <tr>\n",
       "      <th>2</th>\n",
       "      <td>704</td>\n",
       "      <td>1700</td>\n",
       "      <td>8.0</td>\n",
       "      <td>138.264455</td>\n",
       "      <td>11:21:31</td>\n",
       "      <td>2023-01-21</td>\n",
       "    </tr>\n",
       "    <tr>\n",
       "      <th>3</th>\n",
       "      <td>766</td>\n",
       "      <td>4117</td>\n",
       "      <td>15.0</td>\n",
       "      <td>74.991367</td>\n",
       "      <td>04:44:04</td>\n",
       "      <td>2023-01-29</td>\n",
       "    </tr>\n",
       "    <tr>\n",
       "      <th>4</th>\n",
       "      <td>36</td>\n",
       "      <td>3053</td>\n",
       "      <td>7.0</td>\n",
       "      <td>162.569998</td>\n",
       "      <td>03:30:23</td>\n",
       "      <td>2023-05-24</td>\n",
       "    </tr>\n",
       "  </tbody>\n",
       "</table>\n",
       "</div>"
      ],
      "text/plain": [
       "   Purchase_ID  User_ID  Product_ID  Transaction_Amount      Time  \\\n",
       "0          948     3840        19.0           62.843031  16:35:46   \n",
       "1          905     1846         9.0           21.780079  16:38:27   \n",
       "2          704     1700         8.0          138.264455  11:21:31   \n",
       "3          766     4117        15.0           74.991367  04:44:04   \n",
       "4           36     3053         7.0          162.569998  03:30:23   \n",
       "\n",
       "  Purchase_date  \n",
       "0    2023-04-02  \n",
       "1    2023-04-14  \n",
       "2    2023-01-21  \n",
       "3    2023-01-29  \n",
       "4    2023-05-24  "
      ]
     },
     "execution_count": 73,
     "metadata": {},
     "output_type": "execute_result"
    }
   ],
   "source": [
    "df2.head()"
   ]
  },
  {
   "cell_type": "code",
   "execution_count": null,
   "id": "572167ed",
   "metadata": {},
   "outputs": [],
   "source": []
  },
  {
   "cell_type": "code",
   "execution_count": 104,
   "id": "4c6e34b5",
   "metadata": {},
   "outputs": [
    {
     "name": "stdout",
     "output_type": "stream",
     "text": [
      "<class 'pandas.core.frame.DataFrame'>\n",
      "RangeIndex: 1000 entries, 0 to 999\n",
      "Data columns (total 6 columns):\n",
      " #   Column              Non-Null Count  Dtype  \n",
      "---  ------              --------------  -----  \n",
      " 0   Purchase_ID         1000 non-null   int32  \n",
      " 1   User_ID             1000 non-null   int32  \n",
      " 2   Product_ID          1000 non-null   float64\n",
      " 3   Transaction_Amount  1000 non-null   float64\n",
      " 4   Time                1000 non-null   object \n",
      " 5   Purchase_date       1000 non-null   object \n",
      "dtypes: float64(2), int32(2), object(2)\n",
      "memory usage: 39.2+ KB\n"
     ]
    }
   ],
   "source": [
    "df2.info()\n"
   ]
  },
  {
   "cell_type": "code",
   "execution_count": 108,
   "id": "b1fc8f7b",
   "metadata": {},
   "outputs": [
    {
     "name": "stdout",
     "output_type": "stream",
     "text": [
      "<class 'pandas.core.frame.DataFrame'>\n",
      "RangeIndex: 1000 entries, 0 to 999\n",
      "Data columns (total 6 columns):\n",
      " #   Column              Non-Null Count  Dtype         \n",
      "---  ------              --------------  -----         \n",
      " 0   Purchase_ID         1000 non-null   int32         \n",
      " 1   User_ID             1000 non-null   int32         \n",
      " 2   Product_ID          1000 non-null   float64       \n",
      " 3   Transaction_Amount  1000 non-null   float64       \n",
      " 4   Time                1000 non-null   object        \n",
      " 5   Purchase_date       1000 non-null   datetime64[ns]\n",
      "dtypes: datetime64[ns](1), float64(2), int32(2), object(1)\n",
      "memory usage: 39.2+ KB\n"
     ]
    }
   ],
   "source": [
    "df2.info()"
   ]
  },
  {
   "cell_type": "code",
   "execution_count": 114,
   "id": "d9662838",
   "metadata": {},
   "outputs": [],
   "source": [
    "\n",
    "df2['Purchase_date']=pd.to_datetime(df2['Purchase_date'])"
   ]
  },
  {
   "cell_type": "code",
   "execution_count": 115,
   "id": "34284fa0",
   "metadata": {},
   "outputs": [
    {
     "data": {
      "text/plain": [
       "Index(['Purchase_ID', 'User_ID', 'Product_ID', 'Transaction_Amount', 'Time',\n",
       "       'Purchase_date'],\n",
       "      dtype='object')"
      ]
     },
     "execution_count": 115,
     "metadata": {},
     "output_type": "execute_result"
    }
   ],
   "source": [
    "df2.columns"
   ]
  },
  {
   "cell_type": "code",
   "execution_count": 119,
   "id": "7dc0bf3d",
   "metadata": {},
   "outputs": [
    {
     "data": {
      "text/plain": [
       "20"
      ]
     },
     "execution_count": 119,
     "metadata": {},
     "output_type": "execute_result"
    }
   ],
   "source": [
    "df2['Product_ID'].nunique()"
   ]
  },
  {
   "cell_type": "code",
   "execution_count": 118,
   "id": "00dd2dae",
   "metadata": {},
   "outputs": [
    {
     "name": "stdout",
     "output_type": "stream",
     "text": [
      "Total Unique Users: 916\n",
      "Converted Users: 647\n",
      "Conversion Rate: 70.63%\n"
     ]
    }
   ],
   "source": [
    "total_unique_users = df2['User_ID'].nunique()\n",
    "\n",
    "converted_users = df2[df2['Transaction_Amount'] > 0]['Purchase_ID'].nunique()\n",
    "conversion_rate = (converted_users / total_unique_users) * 100\n",
    "\n",
    "print(f\"Total Unique Users: {total_unique_users}\")\n",
    "print(f\"Converted Users: {converted_users}\")\n",
    "print(f\"Conversion Rate: {conversion_rate:.2f}%\")"
   ]
  },
  {
   "cell_type": "code",
   "execution_count": 126,
   "id": "d0367bd2",
   "metadata": {},
   "outputs": [
    {
     "name": "stdout",
     "output_type": "stream",
     "text": [
      "Top-Selling Products:\n",
      "Product_ID\n",
      "19.0    7125.056901\n",
      "17.0    6711.316153\n",
      "13.0    6680.243756\n",
      "3.0     6375.983900\n",
      "20.0    6359.302691\n",
      "8.0     5780.766674\n",
      "5.0     5697.714155\n",
      "4.0     5581.543749\n",
      "7.0     5369.148281\n",
      "12.0    5363.519340\n",
      "2.0     5356.732824\n",
      "18.0    4914.814276\n",
      "9.0     4851.797823\n",
      "15.0    4849.662243\n",
      "16.0    4602.385993\n",
      "1.0     4342.883539\n",
      "11.0    4303.933410\n",
      "14.0    4212.846576\n",
      "10.0    4112.039422\n",
      "6.0     3757.051799\n",
      "Name: Transaction_Amount, dtype: float64\n"
     ]
    }
   ],
   "source": [
    "product_sales = df2.groupby('Product_ID')['Transaction_Amount'].sum()\n",
    "top_selling_products = product_sales.sort_values(ascending=False)\n",
    "print(\"Top-Selling Products:\")\n",
    "print(top_selling_products.head(20))\n",
    "\n"
   ]
  },
  {
   "cell_type": "code",
   "execution_count": 136,
   "id": "4c966139",
   "metadata": {},
   "outputs": [
    {
     "data": {
      "image/png": "[encoded data removed]",
      "text/plain": [
       "<Figure size 640x480 with 1 Axes>"
      ]
     },
     "metadata": {},
     "output_type": "display_data"
    }
   ],
   "source": [
    "interactions_count = df2.groupby('User_ID')['Purchase_ID'].nunique()\n",
    "\n",
    "purchase_likelihood = df2.groupby(interactions_count)['Transaction_Amount'].apply(lambda x: (x > 0).mean())\n",
    "\n",
    "plt.bar(purchase_likelihood.index, purchase_likelihood.values)\n",
    "plt.xlabel('Number of Interactions (Purchase_IDs)')\n",
    "plt.ylabel('Likelihood of a Purchase')\n",
    "plt.title('Likelihood of a Purchase based on Number of Interactions')\n",
    "plt.grid()\n",
    "plt.show()"
   ]
  },
  {
   "cell_type": "code",
   "execution_count": 137,
   "id": "86656395",
   "metadata": {},
   "outputs": [],
   "source": [
    "df2['Time'] = pd.to_datetime(df2['Time'], format='%H:%M:%S')"
   ]
  },
  {
   "cell_type": "code",
   "execution_count": 138,
   "id": "e08d3497",
   "metadata": {},
   "outputs": [
    {
     "name": "stdout",
     "output_type": "stream",
     "text": [
      "<class 'pandas.core.frame.DataFrame'>\n",
      "RangeIndex: 1000 entries, 0 to 999\n",
      "Data columns (total 6 columns):\n",
      " #   Column              Non-Null Count  Dtype         \n",
      "---  ------              --------------  -----         \n",
      " 0   Purchase_ID         1000 non-null   int32         \n",
      " 1   User_ID             1000 non-null   int32         \n",
      " 2   Product_ID          1000 non-null   float64       \n",
      " 3   Transaction_Amount  1000 non-null   float64       \n",
      " 4   Time                1000 non-null   datetime64[ns]\n",
      " 5   Purchase_date       1000 non-null   datetime64[ns]\n",
      "dtypes: datetime64[ns](2), float64(2), int32(2)\n",
      "memory usage: 39.2 KB\n"
     ]
    }
   ],
   "source": [
    "df2.info()"
   ]
  },
  {
   "cell_type": "code",
   "execution_count": 149,
   "id": "9859f821",
   "metadata": {},
   "outputs": [
    {
     "data": {
      "image/png": "[encoded data removed]",
      "text/plain": [
       "<Figure size 1200x800 with 2 Axes>"
      ]
     },
     "metadata": {},
     "output_type": "display_data"
    }
   ],
   "source": [
    "df2['CohortMonth'] = df2['Purchase_date'].dt.to_period('M')\n",
    "df2['CohortDay'] = df2['Purchase_date'].dt.to_period('D')\n",
    "\n",
    "\n",
    "df2['CohortIndex'] = df2.groupby(['CohortMonth', 'CohortDay', 'User_ID']).cumcount()\n",
    "\n",
    "cohort_group = df2.groupby(['CohortMonth', 'CohortIndex'])\n",
    "cohort_data = cohort_group['Purchase_ID'].count().reset_index()\n",
    "cohort_data.rename(columns={'Purchase_ID': 'TotalInteractions'}, inplace=True)\n",
    "\n",
    "\n",
    "retention_table = cohort_data.pivot(index='CohortMonth', columns='CohortIndex', values='TotalInteractions')\n",
    "\n",
    "\n",
    "plt.figure(figsize=(12, 8))\n",
    "plt.title('User Retention - Cohort Analysis')\n",
    "sns.heatmap(retention_table, annot=True, fmt=\".0f\", cmap='BuGn', linewidths=0.5, linecolor='gray')\n",
    "plt.xlabel('Cohort Index (Months Since Sign-up)')\n",
    "plt.ylabel('Cohort Month')\n",
    "plt.show()\n",
    "\n",
    "\n"
   ]
  },
  {
   "cell_type": "code",
   "execution_count": 152,
   "id": "9cb92dbd",
   "metadata": {},
   "outputs": [
    {
     "data": {
      "text/html": [
       "<div>\n",
       "<style scoped>\n",
       "    .dataframe tbody tr th:only-of-type {\n",
       "        vertical-align: middle;\n",
       "    }\n",
       "\n",
       "    .dataframe tbody tr th {\n",
       "        vertical-align: top;\n",
       "    }\n",
       "\n",
       "    .dataframe thead th {\n",
       "        text-align: right;\n",
       "    }\n",
       "</style>\n",
       "<table border=\"1\" class=\"dataframe\">\n",
       "  <thead>\n",
       "    <tr style=\"text-align: right;\">\n",
       "      <th></th>\n",
       "      <th>Purchase_ID</th>\n",
       "      <th>User_ID</th>\n",
       "      <th>Product_ID</th>\n",
       "      <th>Transaction_Amount</th>\n",
       "      <th>Time</th>\n",
       "      <th>Purchase_date</th>\n",
       "      <th>CohortMonth</th>\n",
       "      <th>CohortDay</th>\n",
       "      <th>CohortIndex</th>\n",
       "    </tr>\n",
       "  </thead>\n",
       "  <tbody>\n",
       "    <tr>\n",
       "      <th>0</th>\n",
       "      <td>948</td>\n",
       "      <td>3840</td>\n",
       "      <td>19.0</td>\n",
       "      <td>62.843031</td>\n",
       "      <td>1900-01-01 16:35:46</td>\n",
       "      <td>2023-04-02</td>\n",
       "      <td>1900-01</td>\n",
       "      <td>2023-04-02</td>\n",
       "      <td>0</td>\n",
       "    </tr>\n",
       "    <tr>\n",
       "      <th>1</th>\n",
       "      <td>905</td>\n",
       "      <td>1846</td>\n",
       "      <td>9.0</td>\n",
       "      <td>21.780079</td>\n",
       "      <td>1900-01-01 16:38:27</td>\n",
       "      <td>2023-04-14</td>\n",
       "      <td>1900-01</td>\n",
       "      <td>2023-04-14</td>\n",
       "      <td>0</td>\n",
       "    </tr>\n",
       "    <tr>\n",
       "      <th>2</th>\n",
       "      <td>704</td>\n",
       "      <td>1700</td>\n",
       "      <td>8.0</td>\n",
       "      <td>138.264455</td>\n",
       "      <td>1900-01-01 11:21:31</td>\n",
       "      <td>2023-01-21</td>\n",
       "      <td>1900-01</td>\n",
       "      <td>2023-01-21</td>\n",
       "      <td>0</td>\n",
       "    </tr>\n",
       "    <tr>\n",
       "      <th>3</th>\n",
       "      <td>766</td>\n",
       "      <td>4117</td>\n",
       "      <td>15.0</td>\n",
       "      <td>74.991367</td>\n",
       "      <td>1900-01-01 04:44:04</td>\n",
       "      <td>2023-01-29</td>\n",
       "      <td>1900-01</td>\n",
       "      <td>2023-01-29</td>\n",
       "      <td>0</td>\n",
       "    </tr>\n",
       "    <tr>\n",
       "      <th>4</th>\n",
       "      <td>36</td>\n",
       "      <td>3053</td>\n",
       "      <td>7.0</td>\n",
       "      <td>162.569998</td>\n",
       "      <td>1900-01-01 03:30:23</td>\n",
       "      <td>2023-05-24</td>\n",
       "      <td>1900-01</td>\n",
       "      <td>2023-05-24</td>\n",
       "      <td>0</td>\n",
       "    </tr>\n",
       "  </tbody>\n",
       "</table>\n",
       "</div>"
      ],
      "text/plain": [
       "   Purchase_ID  User_ID  Product_ID  Transaction_Amount                Time  \\\n",
       "0          948     3840        19.0           62.843031 1900-01-01 16:35:46   \n",
       "1          905     1846         9.0           21.780079 1900-01-01 16:38:27   \n",
       "2          704     1700         8.0          138.264455 1900-01-01 11:21:31   \n",
       "3          766     4117        15.0           74.991367 1900-01-01 04:44:04   \n",
       "4           36     3053         7.0          162.569998 1900-01-01 03:30:23   \n",
       "\n",
       "  Purchase_date CohortMonth   CohortDay  CohortIndex  \n",
       "0    2023-04-02     1900-01  2023-04-02            0  \n",
       "1    2023-04-14     1900-01  2023-04-14            0  \n",
       "2    2023-01-21     1900-01  2023-01-21            0  \n",
       "3    2023-01-29     1900-01  2023-01-29            0  \n",
       "4    2023-05-24     1900-01  2023-05-24            0  "
      ]
     },
     "execution_count": 152,
     "metadata": {},
     "output_type": "execute_result"
    }
   ],
   "source": [
    "df2.head()"
   ]
  },
  {
   "cell_type": "code",
   "execution_count": 153,
   "id": "a839a798",
   "metadata": {},
   "outputs": [
    {
     "name": "stdout",
     "output_type": "stream",
     "text": [
      "CohortMonth\n",
      "2023-01    1265.502024\n",
      "2023-02    1309.277332\n",
      "2023-03    1252.221607\n",
      "2023-04    1305.924565\n",
      "2023-05    1355.193695\n",
      "2023-06    1299.703382\n",
      "2023-07    1319.778232\n",
      "Freq: M, Name: CohortLifetimeValue, dtype: float64\n"
     ]
    }
   ],
   "source": [
    "retention_period = 12\n",
    "df2['CohortMonth'] = df2['Purchase_date'].dt.to_period('M')\n",
    "cohort_data = df2.groupby(['CohortMonth', 'User_ID'])['Transaction_Amount'].sum().reset_index()\n",
    "cohort_data['CohortLifetimeValue'] = cohort_data['Transaction_Amount'] * retention_period\n",
    "average_ltv_per_cohort = cohort_data.groupby('CohortMonth')['CohortLifetimeValue'].mean()\n",
    "print(average_ltv_per_cohort)\n"
   ]
  },
  {
   "cell_type": "markdown",
   "id": "316b2ce3",
   "metadata": {},
   "source": [
    "# Website Performance Optimization:"
   ]
  },
  {
   "cell_type": "code",
   "execution_count": 154,
   "id": "a782d0ea",
   "metadata": {},
   "outputs": [
    {
     "data": {
      "text/html": [
       "<div>\n",
       "<style scoped>\n",
       "    .dataframe tbody tr th:only-of-type {\n",
       "        vertical-align: middle;\n",
       "    }\n",
       "\n",
       "    .dataframe tbody tr th {\n",
       "        vertical-align: top;\n",
       "    }\n",
       "\n",
       "    .dataframe thead th {\n",
       "        text-align: right;\n",
       "    }\n",
       "</style>\n",
       "<table border=\"1\" class=\"dataframe\">\n",
       "  <thead>\n",
       "    <tr style=\"text-align: right;\">\n",
       "      <th></th>\n",
       "      <th>Month</th>\n",
       "      <th>Page_Load_Time</th>\n",
       "      <th>Bounce_Rate</th>\n",
       "      <th>Conversion_Rate</th>\n",
       "    </tr>\n",
       "  </thead>\n",
       "  <tbody>\n",
       "    <tr>\n",
       "      <th>0</th>\n",
       "      <td>2023-01-01</td>\n",
       "      <td>5.106652</td>\n",
       "      <td>0.514345</td>\n",
       "      <td>0.047375</td>\n",
       "    </tr>\n",
       "    <tr>\n",
       "      <th>1</th>\n",
       "      <td>2023-02-01</td>\n",
       "      <td>7.828199</td>\n",
       "      <td>0.317157</td>\n",
       "      <td>0.062764</td>\n",
       "    </tr>\n",
       "    <tr>\n",
       "      <th>2</th>\n",
       "      <td>2023-03-01</td>\n",
       "      <td>3.239983</td>\n",
       "      <td>0.480903</td>\n",
       "      <td>0.050514</td>\n",
       "    </tr>\n",
       "    <tr>\n",
       "      <th>3</th>\n",
       "      <td>2023-04-01</td>\n",
       "      <td>5.954509</td>\n",
       "      <td>0.473572</td>\n",
       "      <td>0.057151</td>\n",
       "    </tr>\n",
       "    <tr>\n",
       "      <th>4</th>\n",
       "      <td>2023-05-01</td>\n",
       "      <td>9.872398</td>\n",
       "      <td>0.542407</td>\n",
       "      <td>0.089525</td>\n",
       "    </tr>\n",
       "  </tbody>\n",
       "</table>\n",
       "</div>"
      ],
      "text/plain": [
       "        Month  Page_Load_Time  Bounce_Rate  Conversion_Rate\n",
       "0  2023-01-01        5.106652     0.514345         0.047375\n",
       "1  2023-02-01        7.828199     0.317157         0.062764\n",
       "2  2023-03-01        3.239983     0.480903         0.050514\n",
       "3  2023-04-01        5.954509     0.473572         0.057151\n",
       "4  2023-05-01        9.872398     0.542407         0.089525"
      ]
     },
     "execution_count": 154,
     "metadata": {},
     "output_type": "execute_result"
    }
   ],
   "source": [
    "df3.head()"
   ]
  },
  {
   "cell_type": "code",
   "execution_count": 155,
   "id": "bfb8dca7",
   "metadata": {},
   "outputs": [
    {
     "data": {
      "text/plain": [
       "Index(['Month', 'Page_Load_Time', 'Bounce_Rate', 'Conversion_Rate'], dtype='object')"
      ]
     },
     "execution_count": 155,
     "metadata": {},
     "output_type": "execute_result"
    }
   ],
   "source": [
    "df3.columns"
   ]
  },
  {
   "cell_type": "code",
   "execution_count": 157,
   "id": "dc528992",
   "metadata": {},
   "outputs": [
    {
     "data": {
      "image/png": "[encoded data removed]",
      "text/plain": [
       "<Figure size 1000x600 with 1 Axes>"
      ]
     },
     "metadata": {},
     "output_type": "display_data"
    }
   ],
   "source": [
    "# Plotting Page_Load_Time over months\n",
    "plt.figure(figsize=(10, 6))\n",
    "plt.plot(df3['Month'], df3['Page_Load_Time'], marker='o')\n",
    "plt.xlabel('Month')\n",
    "plt.ylabel('Page Load Time (ms)')\n",
    "plt.title('Page Load Time Over Months')\n",
    "plt.xticks(rotation=45)\n",
    "plt.grid()\n",
    "plt.show()\n",
    "\n",
    "\n",
    "\n"
   ]
  },
  {
   "cell_type": "code",
   "execution_count": 159,
   "id": "1ddc4604",
   "metadata": {},
   "outputs": [
    {
     "data": {
      "image/png": "[encoded data removed]",
      "text/plain": [
       "<Figure size 1000x600 with 1 Axes>"
      ]
     },
     "metadata": {},
     "output_type": "display_data"
    }
   ],
   "source": [
    "# Plotting Bounce_Rate and Conversion_Rate over months\n",
    "plt.figure(figsize=(10, 6))\n",
    "plt.plot(df3['Month'], df3['Bounce_Rate'], marker='o', label='Bounce Rate')\n",
    "plt.plot(df3['Month'], df3['Conversion_Rate'], marker='o', label='Conversion Rate')\n",
    "plt.xlabel('Month')\n",
    "plt.ylabel('Rate')\n",
    "plt.title('Bounce Rate and Conversion Rate Over Months')\n",
    "plt.xticks(rotation=45)\n",
    "plt.legend()\n",
    "plt.grid()\n",
    "plt.show()"
   ]
  },
  {
   "cell_type": "code",
   "execution_count": 161,
   "id": "08b6982e",
   "metadata": {},
   "outputs": [
    {
     "name": "stdout",
     "output_type": "stream",
     "text": [
      "                 Page_Load_Time  Bounce_Rate  Conversion_Rate\n",
      "Page_Load_Time         1.000000    -0.311752         0.290803\n",
      "Bounce_Rate           -0.311752     1.000000         0.025778\n",
      "Conversion_Rate        0.290803     0.025778         1.000000\n"
     ]
    }
   ],
   "source": [
    "# Calculate correlation matrix\n",
    "correlation_matrix = df3[['Page_Load_Time', 'Bounce_Rate', 'Conversion_Rate']].corr()\n",
    "\n",
    "# Display the correlation matrix\n",
    "print(correlation_matrix)\n"
   ]
  }
 ],
 "metadata": {
  "kernelspec": {
   "display_name": "Python 3 (ipykernel)",
   "language": "python",
   "name": "python3"
  },
  "language_info": {
   "codemirror_mode": {
    "name": "ipython",
    "version": 3
   },
   "file_extension": ".py",
   "mimetype": "text/x-python",
   "name": "python",
   "nbconvert_exporter": "python",
   "pygments_lexer": "ipython3",
   "version": "3.10.9"
  }
 },
 "nbformat": 4,
 "nbformat_minor": 5
}
